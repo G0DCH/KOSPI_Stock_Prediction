{
 "cells": [
  {
   "cell_type": "code",
   "execution_count": 1,
   "metadata": {},
   "outputs": [
    {
     "name": "stderr",
     "output_type": "stream",
     "text": [
      "Using TensorFlow backend.\n"
     ]
    }
   ],
   "source": [
    "from Run import *"
   ]
  },
  {
   "cell_type": "code",
   "execution_count": 2,
   "metadata": {},
   "outputs": [],
   "source": [
    "path = os.path.abspath('')\n",
    "onePath = os.path.join(path, 'OneDayPredict')\n",
    "sectionPath = os.path.join(path, 'SectionPredict')"
   ]
  },
  {
   "cell_type": "code",
   "execution_count": 3,
   "metadata": {},
   "outputs": [],
   "source": [
    "codeFileName = '207940.csv'\n",
    "window_Size = 50\n",
    "sectionLength = 10\n",
    "\n",
    "fileName = '{}.h5'.format(codeFileName.split('.')[0])\n",
    "appendFileName = \"{}_win{}_sec{}.h5\".format(codeFileName.split('.')[0], window_Size, sectionLength)"
   ]
  },
  {
   "cell_type": "code",
   "execution_count": 4,
   "metadata": {},
   "outputs": [
    {
     "name": "stderr",
     "output_type": "stream",
     "text": [
      "100%|██████████| 201/201 [00:08<00:00, 24.85it/s]\n"
     ]
    }
   ],
   "source": [
    "x_test0, y_test0, stockName = LoadTestData(200, 50, codeFileName)"
   ]
  },
  {
   "cell_type": "code",
   "execution_count": 5,
   "metadata": {},
   "outputs": [],
   "source": [
    "x_test = nanToZero(x_test0, True)\n",
    "y_test = nanToZero(y_test0, False)\n",
    "pivotDatas0 = nanToZero(np.array(pivotDatas), False)"
   ]
  },
  {
   "cell_type": "code",
   "execution_count": 6,
   "metadata": {},
   "outputs": [
    {
     "name": "stdout",
     "output_type": "stream",
     "text": [
      "WARNING:tensorflow:From /usr/local/lib/python2.7/dist-packages/keras/backend/tensorflow_backend.py:422: The name tf.global_variables is deprecated. Please use tf.compat.v1.global_variables instead.\n",
      "\n"
     ]
    }
   ],
   "source": [
    "from keras.models import load_model\n",
    "\n",
    "#model = load_model(os.path.join(onePath, fileName))\n",
    "model = load_model(os.path.join(sectionPath, appendFileName))"
   ]
  },
  {
   "cell_type": "code",
   "execution_count": 7,
   "metadata": {},
   "outputs": [
    {
     "data": {
      "text/plain": [
       "'\\ndateLength = 201\\ntmpData = pd.read_csv(os.path.join(os.path.dirname(path), \\'PriceChangedData\\', codeFileName))\\ntmpDate = tmpData[\\'\\xeb\\x82\\xa0\\xec\\xa7\\x9c\\']\\ntmpDate = tmpDate[-dateLength:].values\\n\\nimport datetime\\ntmp = []\\nfor i in range(tmpDate.shape[0]):\\n    tmp.append(np.datetime64(datetime.datetime.strptime(str(tmpDate[i]), \"%Y%m%d\"), \\'D\\'))\\n\\ntmp = np.array(tmp)\\n'"
      ]
     },
     "execution_count": 7,
     "metadata": {},
     "output_type": "execute_result"
    }
   ],
   "source": [
    "\"\"\"\n",
    "dateLength = 201\n",
    "tmpData = pd.read_csv(os.path.join(os.path.dirname(path), 'PriceChangedData', codeFileName))\n",
    "tmpDate = tmpData['날짜']\n",
    "tmpDate = tmpDate[-dateLength:].values\n",
    "\n",
    "import datetime\n",
    "tmp = []\n",
    "for i in range(tmpDate.shape[0]):\n",
    "    tmp.append(np.datetime64(datetime.datetime.strptime(str(tmpDate[i]), \"%Y%m%d\"), 'D'))\n",
    "\n",
    "tmp = np.array(tmp)\n",
    "\"\"\""
   ]
  },
  {
   "cell_type": "code",
   "execution_count": 8,
   "metadata": {},
   "outputs": [
    {
     "data": {
      "text/plain": [
       "\"\\nprint('\\xec\\x98\\xa4\\xeb\\x8a\\x98 \\xec\\x98\\x88\\xec\\xb8\\xa1\\xea\\xb0\\x80 : ' + str(result_predict[-1]))\\nprint('\\xec\\x98\\xa4\\xeb\\x8a\\x98 \\xec\\xa2\\x85\\xea\\xb0\\x80 : ' + str(int(y_test2[-1])))\\nplt.figure(facecolor = 'white')\\nplt.title(codeFileName.split('.')[0])\\nplt.plot(y_test2, label='actual')\\nplt.plot(result_predict, label='prediction')\\nplt.xticks(rotation = -45)\\nplt.legend()\\nplt.show()\\n#plt.savefig('myfile.png', dpi=300)\\n\""
      ]
     },
     "execution_count": 8,
     "metadata": {},
     "output_type": "execute_result"
    }
   ],
   "source": [
    "from pandas.plotting import register_matplotlib_converters\n",
    "register_matplotlib_converters()\n",
    "\n",
    "import matplotlib\n",
    "#matplotlib.use('Agg')\n",
    "\n",
    "plt.rcParams['axes.grid'] = True\n",
    "\n",
    "x_test2 = x_test[:]\n",
    "y_test2 = ((y_test[:].astype(np.float64) + 1) * pivotDatas0[:]).astype(np.int64)\n",
    "\n",
    "pred = model.predict(x_test2)\n",
    "\n",
    "result_predict = []\n",
    "for i in range(-len(pred), 0):\n",
    "    result_predict.append(((pred[i] + 1) * pivotDatas0[i]).astype(np.int64))\n",
    "\n",
    "\"\"\"\n",
    "print('오늘 예측가 : ' + str(result_predict[-1]))\n",
    "print('오늘 종가 : ' + str(int(y_test2[-1])))\n",
    "plt.figure(facecolor = 'white')\n",
    "plt.title(codeFileName.split('.')[0])\n",
    "plt.plot(y_test2, label='actual')\n",
    "plt.plot(result_predict, label='prediction')\n",
    "plt.xticks(rotation = -45)\n",
    "plt.legend()\n",
    "plt.show()\n",
    "#plt.savefig('myfile.png', dpi=300)\n",
    "\"\"\""
   ]
  },
  {
   "cell_type": "code",
   "execution_count": 9,
   "metadata": {},
   "outputs": [],
   "source": [
    "point = 0\n",
    "for i in range(len(result_predict) - 9):\n",
    "    diff = result_predict[i][-1] - result_predict[i][0]\n",
    "    test_diff = y_test2[i + 9] - y_test2[i]\n",
    "    if diff < 0:\n",
    "        if test_diff < 0:\n",
    "            point += 1\n",
    "        else:\n",
    "            point -= 1\n",
    "    else:\n",
    "        if test_diff >= 0:\n",
    "            point += 1\n",
    "        else:\n",
    "            point -= 1"
   ]
  },
  {
   "cell_type": "code",
   "execution_count": 10,
   "metadata": {},
   "outputs": [
    {
     "data": {
      "text/plain": [
       "68"
      ]
     },
     "execution_count": 10,
     "metadata": {},
     "output_type": "execute_result"
    }
   ],
   "source": [
    "point"
   ]
  },
  {
   "cell_type": "code",
   "execution_count": null,
   "metadata": {},
   "outputs": [],
   "source": []
  }
 ],
 "metadata": {
  "kernelspec": {
   "display_name": "Python 2",
   "language": "python",
   "name": "python2"
  },
  "language_info": {
   "codemirror_mode": {
    "name": "ipython",
    "version": 2
   },
   "file_extension": ".py",
   "mimetype": "text/x-python",
   "name": "python",
   "nbconvert_exporter": "python",
   "pygments_lexer": "ipython2",
   "version": "2.7.17"
  }
 },
 "nbformat": 4,
 "nbformat_minor": 2
}
