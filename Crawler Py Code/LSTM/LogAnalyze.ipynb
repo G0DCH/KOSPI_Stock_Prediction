{
 "cells": [
  {
   "cell_type": "code",
   "execution_count": 179,
   "metadata": {},
   "outputs": [
    {
     "name": "stderr",
     "output_type": "stream",
     "text": [
      "100%|█████████▉| 588239/591066 [00:33<00:00, 17618.87it/s]\n"
     ]
    }
   ],
   "source": [
    "#-*- coding:utf-8 -*-\n",
    "from tqdm import tqdm\n",
    "import os\n",
    "import pandas as pd\n",
    "import numpy as np\n",
    "\n",
    "path = os.path.abspath('')\n",
    "csvPath = os.path.dirname(path)\n",
    "CrawledPath = os.path.join(csvPath, 'CrawledData')\n",
    "nameList = os.listdir(CrawledPath)\n",
    "nameList.sort()\n",
    "crawledFileName = nameList[-1]\n",
    "crawledData = pd.read_csv(os.path.join(CrawledPath, crawledFileName), \\\n",
    "    dtype = {'종목코드':np.str, '종목명':np.str, \\\n",
    "    '현재가':np.int64, '시가총액':np.int64})\n",
    "\n",
    "codes = crawledData['종목코드'].to_list()\n",
    "\n",
    "logFile = open('Run_MakeAllModel.py.log', 'r')\n",
    "lines = logFile.readlines()\n",
    "\n",
    "max_loss = 0.0\n",
    "max_val_loss = 0.0\n",
    "min_loss = 1000000.0\n",
    "min_val_loss = 1000000.0\n",
    "sum_loss = 0.0\n",
    "sum_val_loss = 0.0\n",
    "\n",
    "sec_max_loss = 0.0\n",
    "sec_max_val_loss = 0.0\n",
    "sec_min_loss = 1000000.0\n",
    "sec_min_val_loss = 1000000.0\n",
    "sec_sum_loss = 0.0\n",
    "sec_sum_val_loss = 0.0\n",
    "\n",
    "checkLine = 'Epoch 100/100'\n",
    "one_check = '.h5 Done'\n",
    "sec_check = '_win50_sec10.h5 Done.'\n",
    "\n",
    "losses = []\n",
    "val_losses = []\n",
    "sec_losses = []\n",
    "sec_val_losses = []\n",
    "\n",
    "testCodes = ['005930', '000660', '006400', '035420', '035720', '036570', '051900', '068270', '207940']\n",
    "\n",
    "values = []\n",
    "sec_values = []\n",
    "\n",
    "index = 0\n",
    "stock_num = 0\n",
    "# 한줄 씩 읽어서\n",
    "# Epoch 100/100이 나오면\n",
    "# 다음에 나오는 h5 파일이 *.h5인지 *_win50_sec10.h5인지 검사\n",
    "# loss와 val_loss 값을 맞는 쪽에 저장.\n",
    "for line in tqdm(lines):\n",
    "    if checkLine in line:\n",
    "        line = lines[index + 1]\n",
    "        # loss 값과 val_loss 값을 걸러냄\n",
    "        splited = line.split('- loss: ')\n",
    "        splited = splited[1].split(' - val_loss: ')\n",
    "        loss = float(splited[0])\n",
    "        val_loss = float(splited[1])\n",
    "        \n",
    "        for h5Line in lines[index + 2:]:\n",
    "            if sec_check in h5Line:\n",
    "                if h5Line.split(sec_check)[0] in codes:\n",
    "                    sec_sum_loss += loss\n",
    "                    sec_sum_val_loss += val_loss\n",
    "                    \n",
    "                    if h5Line.split(sec_check)[0] in testCodes:\n",
    "                        sec_values.append((h5Line.split(sec_check)[0], loss, val_loss))\n",
    "                    \n",
    "                    # 최대, 최소값 갱신\n",
    "                    if sec_max_loss < loss:\n",
    "                        sec_max_loss = loss\n",
    "                    elif sec_min_loss > loss:\n",
    "                        sec_min_loss = loss\n",
    "                    if sec_max_val_loss < val_loss:\n",
    "                        sec_max_val_loss = val_loss\n",
    "                    elif sec_min_val_loss > val_loss:\n",
    "                        sec_min_val_loss = val_loss\n",
    "                    \n",
    "                    sec_losses.append(loss)\n",
    "                    sec_val_losses.append(val_loss)\n",
    "                lines.remove(h5Line)\n",
    "                break\n",
    "\n",
    "            elif one_check in h5Line:\n",
    "                if h5Line.split(one_check)[0] in codes:\n",
    "                    sum_loss += loss\n",
    "                    sum_val_loss += val_loss\n",
    "                    \n",
    "                    if h5Line.split(one_check)[0] in testCodes:\n",
    "                        values.append((h5Line.split(one_check)[0], loss, val_loss))\n",
    "                    \n",
    "                    # 최대, 최소값 갱신\n",
    "                    if max_loss < loss:\n",
    "                        max_loss = loss\n",
    "                    elif min_loss > loss:\n",
    "                        min_loss = loss\n",
    "                    if max_val_loss < val_loss:\n",
    "                        max_val_loss = val_loss\n",
    "                    elif min_val_loss > val_loss:\n",
    "                        min_val_loss = val_loss\n",
    "                    \n",
    "                    losses.append(loss)\n",
    "                    val_losses.append(val_loss)\n",
    "\n",
    "                    stock_num += 1\n",
    "                lines.remove(h5Line)\n",
    "                break\n",
    "    index += 1\n",
    "\n",
    "stock_num = float(stock_num)\n",
    "\n",
    "sum_loss = round(sum_loss / stock_num, 6)\n",
    "sum_val_loss = round(sum_val_loss / stock_num, 6)\n",
    "\n",
    "sec_sum_loss = round(sec_sum_loss / stock_num, 6)\n",
    "sec_sum_val_loss = round(sec_sum_val_loss / stock_num, 6)"
   ]
  },
  {
   "cell_type": "code",
   "execution_count": 34,
   "metadata": {},
   "outputs": [
    {
     "name": "stdout",
     "output_type": "stream",
     "text": [
      "(0.112789, 0.095482, 0.090937, 0.084211)\n"
     ]
    }
   ],
   "source": [
    "print(sum_loss, sum_val_loss, sec_sum_loss, sec_sum_val_loss)"
   ]
  },
  {
   "cell_type": "code",
   "execution_count": 35,
   "metadata": {},
   "outputs": [
    {
     "name": "stdout",
     "output_type": "stream",
     "text": [
      "(38.3407, 0.0, 20.9104, 0.0)\n"
     ]
    }
   ],
   "source": [
    "print(max_loss, min_loss, max_val_loss, min_val_loss)"
   ]
  },
  {
   "cell_type": "code",
   "execution_count": 36,
   "metadata": {},
   "outputs": [
    {
     "name": "stdout",
     "output_type": "stream",
     "text": [
      "(39.464, 0.0, 23.439, 0.0)\n"
     ]
    }
   ],
   "source": [
    "print(sec_max_loss, sec_min_loss, sec_max_val_loss, sec_min_val_loss)"
   ]
  },
  {
   "cell_type": "code",
   "execution_count": 37,
   "metadata": {},
   "outputs": [
    {
     "name": "stdout",
     "output_type": "stream",
     "text": [
      "910.0\n"
     ]
    }
   ],
   "source": [
    "print(stock_num)"
   ]
  },
  {
   "cell_type": "code",
   "execution_count": 38,
   "metadata": {},
   "outputs": [],
   "source": [
    "import matplotlib.pyplot as plt"
   ]
  },
  {
   "cell_type": "code",
   "execution_count": 168,
   "metadata": {},
   "outputs": [
    {
     "data": {
      "image/png": "[encoded data removed]",
      "text/plain": [
       "<matplotlib.figure.Figure at 0x7f52cca764d0>"
      ]
     },
     "metadata": {},
     "output_type": "display_data"
    }
   ],
   "source": [
    "plt.figure(facecolor = 'white')\n",
    "plt.hist(sec_losses, range = (0, 0.01), edgecolor = 'black', bins = 100)\n",
    "plt.xlabel('MSE Value')\n",
    "plt.ylabel('Count')\n",
    "plt.ylim(top = 50)\n",
    "plt.title('Train 10 Days Predict (0 ~ 0.01)')\n",
    "plt.show()"
   ]
  },
  {
   "cell_type": "code",
   "execution_count": 169,
   "metadata": {},
   "outputs": [],
   "source": [
    "count = 0\n",
    "for myloss in sec_losses:\n",
    "    if myloss <= 0.01:\n",
    "        count += 1"
   ]
  },
  {
   "cell_type": "code",
   "execution_count": 170,
   "metadata": {},
   "outputs": [
    {
     "name": "stdout",
     "output_type": "stream",
     "text": [
      "683\n"
     ]
    }
   ],
   "source": [
    "print(count)"
   ]
  },
  {
   "cell_type": "code",
   "execution_count": 180,
   "metadata": {},
   "outputs": [
    {
     "data": {
      "text/plain": [
       "[('000660', 0.0037, 0.0045),\n",
       " ('005930', 0.0014, 0.0026),\n",
       " ('006400', 0.0042, 0.0105),\n",
       " ('035720', 0.0056, 0.0191),\n",
       " ('035420', 0.0012, 0.0015),\n",
       " ('036570', 0.0039, 0.003),\n",
       " ('051900', 0.0025, 0.0033),\n",
       " ('068270', 0.0041, 0.0023),\n",
       " ('207940', 0.0025, 0.0059)]"
      ]
     },
     "execution_count": 180,
     "metadata": {},
     "output_type": "execute_result"
    }
   ],
   "source": [
    "values"
   ]
  },
  {
   "cell_type": "code",
   "execution_count": 181,
   "metadata": {},
   "outputs": [
    {
     "data": {
      "text/plain": [
       "[('000660', 0.0039, 0.0049),\n",
       " ('006400', 0.0048, 0.0074),\n",
       " ('035720', 0.0026, 0.002),\n",
       " ('035420', 0.0019, 0.0055),\n",
       " ('036570', 0.0062, 0.009),\n",
       " ('051900', 0.004, 0.0055),\n",
       " ('068270', 0.0055, 0.0065),\n",
       " ('207940', 0.0057, 0.0065)]"
      ]
     },
     "execution_count": 181,
     "metadata": {},
     "output_type": "execute_result"
    }
   ],
   "source": [
    "sec_values"
   ]
  },
  {
   "cell_type": "code",
   "execution_count": null,
   "metadata": {},
   "outputs": [],
   "source": []
  }
 ],
 "metadata": {
  "kernelspec": {
   "display_name": "Python 2",
   "language": "python",
   "name": "python2"
  },
  "language_info": {
   "codemirror_mode": {
    "name": "ipython",
    "version": 2
   },
   "file_extension": ".py",
   "mimetype": "text/x-python",
   "name": "python",
   "nbconvert_exporter": "python",
   "pygments_lexer": "ipython2",
   "version": "2.7.17"
  }
 },
 "nbformat": 4,
 "nbformat_minor": 2
}
